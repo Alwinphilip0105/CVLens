{
 "cells": [
  {
   "cell_type": "markdown",
   "id": "7a59805b",
   "metadata": {},
   "source": [
    "## **Resume Parser Example **"
   ]
  },
  {
   "cell_type": "code",
   "execution_count": 2,
   "id": "d910035f",
   "metadata": {},
   "outputs": [
    {
     "name": "stdout",
     "output_type": "stream",
     "text": [
      "{\n",
      "  \"links\": {\n",
      "    \"github\": {\n",
      "      \"profile\": [\n",
      "        \"https://github.com/SarthakChandervanshi\"\n",
      "      ],\n",
      "      \"project\": [\n",
      "        \"https://github.com/SarthakChandervanshi/Stocks-Analysis\"\n",
      "      ]\n",
      "    },\n",
      "    \"linkedin\": {\n",
      "      \"profile\": [\n",
      "        \"https://linkedin.com/in/sarthakchandervanshi\"\n",
      "      ]\n",
      "    },\n",
      "    \"portfolio\": [\n",
      "      \"https://sarthakchandervanshi.github.io/\"\n",
      "    ],\n",
      "    \"other\": [\n",
      "      \"sarthakchandervanshi@gmail.com\",\n",
      "      \"https://www.datacamp.com/statement-of-accomplishment/course/3f56160ff8aecce0eb39be05d706b06175f5f7df?raw=1\",\n",
      "      \"https://www.datacamp.com/statement-of-accomplishment/course/4f3066023cb3e679efebce88ca043c9df8efb890?raw=1\",\n",
      "      \"https://www.datacamp.com/statement-of-accomplishment/course/cf4449f8073bf4ba8a10aec9167126b9493bc95d?raw=1\",\n",
      "      \"https://www.credly.com/badges/c767a6c2-9633-4dfc-9d51-899a11994ebc?source=linked_in_profile\",\n",
      "      \"https://www.credly.com/badges/17a8396d-4dc3-4c3d-9e19-1f761729639d?source=linked_in_profile\",\n",
      "      \"https://www.credly.com/badges/76fc4e7e-5f06-4f91-a47a-66d2b943e058?source=linked_in_profile\"\n",
      "    ]\n",
      "  },\n",
      "  \"metadata\": {\n",
      "    \"text_content\": \"Sarthak Chandervanshi\\nCamden New Jersey 08102\\n\\u0083 +1 267-978-9175\\n# sarthakchandervanshi@gmail.com\\n\\u00ef LinkedIn\\n\\u00a7 GitHub l Portfolio\\nEducation\\nRutgers University\\nMay 2026\\nMaster of Science in Data Science, GPA: 3.92\\nCamden, NJ\\nRelevant Coursework: Probability and Statistics, Data Visualization, Applied Data Mining & Machine Learning\\nBennett University\\nJune 2023\\nBachelor of Technology in Computer Science, CGPA: 8.94\\nGreater Noida, India\\nRelevant Coursework: High Performance Computing, AI & ML, Cloud Computing\\nWork Experience\\nCarbonSustain\\nJune 2025 - August 2025\\nData Development Intern\\nBerkley, California (Remote)\\n\\u2022 Developed a scalable backend infrastructure designed to handle high-volume data from 1,000+ Hedera mainnet projects,\\nleveraging AWS services including Elastic Beanstalk, Lambda, Cloudfront, S3, Event Bridge and Aurora RDS\\nto build and manage APIs\\n\\u2022 Implemented a voting system that stored data on the Hedera Hashgraph ledger and generated Merkle root from\\nreturned transaction hashes. Developed APIs for cryptographic proof generation and verification, ensuring data integrity\\nand transparency.\\nRutgers Wellness Center\\nFebruary 2025 - Present\\nData Analyst (Part Time)\\nRutgers Camden\\n\\u2022 Optimized healthcare operations by managing structured clinical data related to appointments, check-ins, and patient\\nrecords for over 4500 students. I collaborated cross-functionally with providers to ensure data integrity and streamline\\nworkflows across medical and psychological services.\\n\\u2022 Led analysis for the 2023 - 2024 and 2024 - 2025 AUCCCD survey, extracting and transforming clinical data from\\nMedicat into Excel for exploratory analysis, mapped over 80+ survey questions to institutional health data, enabling\\naccurate, insight-driven reporting to support strategic planning and compliance.\\nParkPlus\\nAugust 2022 - June 2023\\nFlutter Developer Intern\\nGurugram, India\\n\\u2022 Unified iOS and Android platforms into a single codebase, integrating REST APIs to streamline data flow and reduce\\ndevelopment time by 50%. Contributed to building data-centric features like FASTag, Passbook and Orders Page.\\n\\u2022 Leveraged user interaction data to design and deploy a gamified in-app feature, increasing user engagement by 45% and\\nsupporting data-driven retention strategies.\\nProjects\\nGuide-Target Binding Prediction Model | Python, TensorFlow, Keras, scikit-learn\\nJuly 2025 - August 2025\\n\\u2022 Built and trained Convolutional Neural Network (CNN) architecture on separate datasets for 19, 20, and 21 nt guide\\nlengths to address data biases and capture length-specific binding patterns.\\n\\u2022 Utilized techniques such as regularization, batch normalization, and attention layers to optimize the model\\u2019s\\nperformance, achieving a peak accuracy of 84.3% and an ROC AUC score of 92.4% on the 21 nt model.\\nStocks Analysis and Visualization | Python, Holoviews, HvPlot, Plotly, Matplotlib\\nNovember 2024 - December 2024\\n\\u2022 Constructed a scalable data visualization pipeline to analyze 25+ major stock trends (2022\\u20132024), incorporating data\\ncleaning, EDA, and 15+ interactive visualizations using Holoviews, Plotly, and Matplotlib.\\n\\u2022 Built predictive models using ML/DL techniques (TensorFlow) with 98%+ accuracy. Applied SARIMAX, regression,\\nand Monte Carlo simulations to forecast price trends on 15,000+ data rows via Pandas and NumPy.\\nTechnical Skills\\nTechnical & Analytical Skills: SQL, Python, R, C++, Git, PyCharm, Jupyter Notebook, EDA, Data Visualization,\\nPandas, Numpy, Matplotlib, Holoviews, HvPlot, Tableau, Excel\\nCertifications & Soft Skills: Introduction to Data Visualization with ggplot2, Data Manipulation with dplyr,\\nIntermediate R, Microsoft: Azure Fundamentals, Microsoft: Azure AI Fundamentals, AWS Academy Cloud Foundations\\nLeadership / Extracurricular\\nRutgers Accelerate And Renew Academy (RARA)\\nNovember 2024 - August 2025\\nStudent Tutor\\nRutgers University\\n\\u2022 Supported academic growth for 20+ students (Grades 2\\u20134) by reinforcing core Math and ELA concepts, assisting with\\nhomework, and adapting teaching strategies to suit diverse learning styles, fostering both confidence and comprehension.\\n\\u2022 Facilitated program expansion from 9 to 20 students by actively onboarding new participants and creating an engaging,\\nsupportive environment that addressed both academic and social-emotional needs.\\n\\n\"\n",
      "  }\n",
      "}\n"
     ]
    }
   ],
   "source": [
    "import sys\n",
    "import os\n",
    "\n",
    "# Add current directory to Python path\n",
    "sys.path.append(os.getcwd())\n",
    "\n",
    "# Import the library\n",
    "from resume_parser import process_resume_to_json\n",
    "\n",
    "filename = \"../Resume_Parser/Test_Resumes/Sarthak_Resume.pdf\"\n",
    "\n",
    "# Get JSON string\n",
    "json_string = process_resume_to_json(filename)\n",
    "print(json_string)"
   ]
  },
  {
   "cell_type": "code",
   "execution_count": 1,
   "id": "a7cb9c17",
   "metadata": {},
   "outputs": [
    {
     "name": "stdout",
     "output_type": "stream",
     "text": [
      "Please visit this URL to authorize this application: https://accounts.google.com/o/oauth2/auth?response_type=code&client_id=98201303007-7ptiddd23fnfufuav4jr8jnl671e5ff4.apps.googleusercontent.com&redirect_uri=http%3A%2F%2Flocalhost%3A57307%2F&scope=https%3A%2F%2Fwww.googleapis.com%2Fauth%2Fdrive.file&state=iCe9IoR5O1D0Gop3VtIzgL9n0DYgIl&access_type=offline\n",
      "✅ PDF uploaded to Google Drive: https://drive.google.com/file/d/1AwSfU5cUD7_YGwpsOWUpOOTbd1K5mVUS/view?usp=drivesdk\n",
      "✅ Data saved to Firestore with ID: Alwin_Resume\n",
      "✅ Upload successful!\n",
      "Keys in result: ['links', 'metadata', 'gdrive_url', 'gdrive_file_id', 'document_id']\n",
      "Google Drive URL: https://drive.google.com/file/d/1AwSfU5cUD7_YGwpsOWUpOOTbd1K5mVUS/view?usp=drivesdk\n",
      "Firestore Document ID: Alwin_Resume\n"
     ]
    }
   ],
   "source": [
    "import os\n",
    "from resume_parser import process_resume_with_gdrive_firestore\n",
    "\n",
    "pdf_path = \"Test_Resumes/Alwin_Resume.pdf\"\n",
    "\n",
    "if os.path.exists(pdf_path):\n",
    "    try:\n",
    "        result = process_resume_with_gdrive_firestore(pdf_path)\n",
    "        print(\"✅ Upload successful!\")\n",
    "        print(\"Keys in result:\", list(result.keys()))\n",
    "        \n",
    "        if 'gdrive_url' in result:\n",
    "            print(f\"Google Drive URL: {result['gdrive_url']}\")\n",
    "        if 'document_id' in result:\n",
    "            print(f\"Firestore Document ID: {result['document_id']}\")\n",
    "            \n",
    "    except Exception as e:\n",
    "        print(f\"❌ Error: {e}\")\n",
    "else:\n",
    "    print(f\"File not found: {pdf_path}\")"
   ]
  }
 ],
 "metadata": {
  "kernelspec": {
   "display_name": "Python 3",
   "language": "python",
   "name": "python3"
  },
  "language_info": {
   "codemirror_mode": {
    "name": "ipython",
    "version": 3
   },
   "file_extension": ".py",
   "mimetype": "text/x-python",
   "name": "python",
   "nbconvert_exporter": "python",
   "pygments_lexer": "ipython3",
   "version": "3.11.9"
  }
 },
 "nbformat": 4,
 "nbformat_minor": 5
}
