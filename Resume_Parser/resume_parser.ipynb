{
 "cells": [
  {
   "cell_type": "markdown",
   "id": "7a59805b",
   "metadata": {},
   "source": [
    "## **Resume Parser Example **"
   ]
  },
  {
   "cell_type": "code",
   "execution_count": 1,
   "id": "d910035f",
   "metadata": {},
   "outputs": [
    {
     "name": "stderr",
     "output_type": "stream",
     "text": [
      "WARNING: All log messages before absl::InitializeLog() is called are written to STDERR\n",
      "E0000 00:00:1759629044.226063  375548 alts_credentials.cc:93] ALTS creds ignored. Not running on GCP and untrusted ALTS is not enabled.\n"
     ]
    },
    {
     "name": "stdout",
     "output_type": "stream",
     "text": [
      "✅ Data saved to Firestore with ID: Sarthak_Resume\n",
      "✅ Resume data uploaded to Firestore successfully!\n",
      "Document ID: Sarthak_Resume\n",
      "\n",
      "=== EXTRACTED LINKS ===\n",
      "GITHUB (profile): ['https://github.com/SarthakChandervanshi']\n",
      "GITHUB (project): ['https://github.com/SarthakChandervanshi/Stocks-Analysis']\n",
      "LINKEDIN (profile): ['https://linkedin.com/in/sarthakchandervanshi']\n",
      "PORTFOLIO: ['https://sarthakchandervanshi.github.io/']\n",
      "OTHER: ['sarthakchandervanshi@gmail.com', 'https://www.datacamp.com/statement-of-accomplishment/course/3f56160ff8aecce0eb39be05d706b06175f5f7df?raw=1', 'https://www.datacamp.com/statement-of-accomplishment/course/4f3066023cb3e679efebce88ca043c9df8efb890?raw=1', 'https://www.datacamp.com/statement-of-accomplishment/course/cf4449f8073bf4ba8a10aec9167126b9493bc95d?raw=1', 'https://www.credly.com/badges/c767a6c2-9633-4dfc-9d51-899a11994ebc?source=linked_in_profile', 'https://www.credly.com/badges/17a8396d-4dc3-4c3d-9e19-1f761729639d?source=linked_in_profile', 'https://www.credly.com/badges/76fc4e7e-5f06-4f91-a47a-66d2b943e058?source=linked_in_profile']\n",
      "\n",
      "=== METADATA ===\n",
      "Text Content Length: 4297 characters\n",
      "Text Preview (first 200 chars):\n",
      "Sarthak Chandervanshi\n",
      "Camden New Jersey 08102\n",
      " +1 267-978-9175\n",
      "# sarthakchandervanshi@gmail.com\n",
      "ï LinkedIn\n",
      "§ GitHub l Portfolio\n",
      "Education\n",
      "Rutgers University\n",
      "May 2026\n",
      "Master of Science in Data Science...\n"
     ]
    }
   ],
   "source": [
    "# 1. Parse Resume Data and Upload to Firestore\n",
    "import os\n",
    "from resume_parser import process_resume_with_firestore\n",
    "\n",
    "# Specify the resume file to process\n",
    "pdf_path = \"Test_Resumes/Sarthak_Resume.pdf\"\n",
    "\n",
    "if os.path.exists(pdf_path):\n",
    "    try:\n",
    "        # Process resume and upload to Firestore\n",
    "        result = process_resume_with_firestore(pdf_path)\n",
    "        print(\"✅ Resume data uploaded to Firestore successfully!\")\n",
    "        print(f\"Document ID: {result['document_id']}\")\n",
    "        \n",
    "        # Display extracted links\n",
    "        print(\"\\n=== EXTRACTED LINKS ===\")\n",
    "        links = result.get('links', {})\n",
    "        for category, data in links.items():\n",
    "            if isinstance(data, dict):\n",
    "                for subcategory, urls in data.items():\n",
    "                    if urls:\n",
    "                        print(f\"{category.upper()} ({subcategory}): {urls}\")\n",
    "            elif data:\n",
    "                print(f\"{category.upper()}: {data}\")\n",
    "                \n",
    "        # Display metadata info\n",
    "        print(f\"\\n=== METADATA ===\")\n",
    "        metadata = result.get('metadata', {})\n",
    "        text_content = metadata.get('text_content', '')\n",
    "        print(f\"Text Content Length: {len(text_content)} characters\")\n",
    "        print(f\"Text Preview (first 200 chars):\")\n",
    "        print(text_content[:200] + \"...\" if len(text_content) > 200 else text_content)\n",
    "            \n",
    "    except Exception as e:\n",
    "        print(f\"❌ Error: {e}\")\n",
    "else:\n",
    "    print(f\"File not found: {pdf_path}\")"
   ]
  },
  {
   "cell_type": "code",
   "execution_count": 2,
   "id": "a7cb9c17",
   "metadata": {},
   "outputs": [
    {
     "name": "stdout",
     "output_type": "stream",
     "text": [
      "=== ALL DOCUMENTS IN FIRESTORE ===\n",
      "Found 1 resume(s) in Firestore:\n",
      "\n",
      "--- Resume 1: Sarthak_Resume ---\n",
      "Links found:\n",
      "  PORTFOLIO: 1 links\n",
      "  GITHUB (project): 1 links\n",
      "  GITHUB (profile): 1 links\n",
      "  LINKEDIN (profile): 1 links\n",
      "  OTHER: 7 links\n",
      "Text content: 4297 characters\n",
      "\n"
     ]
    }
   ],
   "source": [
    "# 2. Retrieve All Data from Firestore\n",
    "from firebase_config import list_firebase_documents\n",
    "\n",
    "print(\"=== ALL DOCUMENTS IN FIRESTORE ===\")\n",
    "documents = list_firebase_documents()\n",
    "\n",
    "if documents:\n",
    "    print(f\"Found {len(documents)} resume(s) in Firestore:\\n\")\n",
    "    \n",
    "    for i, doc in enumerate(documents, 1):\n",
    "        print(f\"--- Resume {i}: {doc['id']} ---\")\n",
    "        data = doc['data']\n",
    "        \n",
    "        # Display links summary\n",
    "        if 'links' in data:\n",
    "            print(\"Links found:\")\n",
    "            links = data['links']\n",
    "            for category, link_data in links.items():\n",
    "                if isinstance(link_data, dict):\n",
    "                    for subcategory, urls in link_data.items():\n",
    "                        if urls:\n",
    "                            print(f\"  {category.upper()} ({subcategory}): {len(urls)} links\")\n",
    "                elif link_data:\n",
    "                    print(f\"  {category.upper()}: {len(link_data)} links\")\n",
    "        \n",
    "        # Display metadata summary\n",
    "        if 'metadata' in data and 'text_content' in data['metadata']:\n",
    "            text_length = len(data['metadata']['text_content'])\n",
    "            print(f\"Text content: {text_length} characters\")\n",
    "            \n",
    "        print()  # Empty line for readability\n",
    "else:\n",
    "    print(\"No documents found in Firestore\")"
   ]
  },
  {
   "cell_type": "code",
   "execution_count": null,
   "id": "9ac752db",
   "metadata": {},
   "outputs": [],
   "source": [
    "\n"
   ]
  },
  {
   "cell_type": "code",
   "execution_count": null,
   "id": "c6e2e31e",
   "metadata": {},
   "outputs": [],
   "source": [
    "\n"
   ]
  },
  {
   "cell_type": "code",
   "execution_count": null,
   "id": "7a701d9c",
   "metadata": {},
   "outputs": [],
   "source": [
    "\n"
   ]
  }
 ],
 "metadata": {
  "kernelspec": {
   "display_name": ".venv",
   "language": "python",
   "name": "python3"
  },
  "language_info": {
   "codemirror_mode": {
    "name": "ipython",
    "version": 3
   },
   "file_extension": ".py",
   "mimetype": "text/x-python",
   "name": "python",
   "nbconvert_exporter": "python",
   "pygments_lexer": "ipython3",
   "version": "3.12.3"
  }
 },
 "nbformat": 4,
 "nbformat_minor": 5
}
